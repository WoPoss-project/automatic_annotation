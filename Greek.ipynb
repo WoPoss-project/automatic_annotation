{
 "cells": [
  {
   "cell_type": "markdown",
   "metadata": {
    "id": "5DOb2hMage_w"
   },
   "source": [
    "# Automatic annotation of Greek\n",
    "\n",
    "This exercice is thought to automatically annotate Greek text. We will use models which were trained by Stanza using data from the following treebanks: PROIEL and Perseus. Stanza was developed by the Stanford NLP group. In the following exercice you will be able to compare the same text as annotated using the two models.\n",
    "\n",
    "To start the exercice, just **run a cell**, that is: just click on the on the cell and then the button `Run` on the menu on top or, alternatively, press `Ctrl + Enter` in Windows or Linux, or `Command key (⌘) + Enter` in Apple. And then go on running the following cells. You can also run the complete notebook (from start to end) by using the menu: `Cell > Run all`\n",
    "\n",
    "If you want, you can change the Greek text in the first cell. \n",
    "\n",
    "\n",
    "### Before starting, be aware that...\n",
    "\n",
    "- ...downloading the models might take up to a couple of minutes.\n",
    "- ...you must respect the order in which the cells appear.\n",
    "- ...if you want to change the text and use your favorite Greek sentences, you'll need to rerun the cells.\n",
    "- ...if you get the message `Dead kernel`: just run the first cell (the one where you define the text), and then run the cells of the model you want to use.\n",
    "\n",
    "### To know more... \n",
    "Performance of the system on different UD Treebanks is available in the [website of the Stanza project](https://stanfordnlp.github.io/stanza/performance.html).\n"
   ]
  },
  {
   "cell_type": "code",
   "execution_count": null,
   "metadata": {
    "id": "IlEmzKhRRj-9"
   },
   "outputs": [],
   "source": [
    "# Insert here the text you want to automatically annotate (here Isocrates, To Demonicus, 1 18)\n",
    "text = \"Ἐὰν ᾖς φιλομαθής, ἔσει πολυμαθής\"\n",
    "\n",
    "import stanza # import the library Stanza\n",
    "import spacy # import the spaCy libraries\n",
    "from spacy import displacy\n",
    "from spacy_stanza import StanzaLanguage\n",
    "\n",
    "# Then run the cells and compare the two Greek models: PROIEL (default model), and Perseus\n"
   ]
  },
  {
   "cell_type": "markdown",
   "metadata": {
    "id": "Xe8R5jB3S0yH"
   },
   "source": [
    "## Automatic annotation with the PROIEL model (default model)"
   ]
  },
  {
   "cell_type": "code",
   "execution_count": null,
   "metadata": {
    "colab": {
     "base_uri": "https://localhost:8080/"
    },
    "id": "tSOKdQVtLVD5",
    "outputId": "67ab4fe4-2a98-48c9-e64e-34b3ed9b3e9d"
   },
   "outputs": [],
   "source": [
    "stanza.download('grc') # download default Greek model (PROIEL)\n",
    "nlp = stanza.Pipeline('grc') # initialise Greek neural pipeline\n",
    "doc = nlp(text) # run annotation over a sentence "
   ]
  },
  {
   "cell_type": "code",
   "execution_count": null,
   "metadata": {
    "colab": {
     "base_uri": "https://localhost:8080/"
    },
    "id": "qLiRSvM3NCFt",
    "outputId": "2185e97f-1058-42ec-a0f4-809a3bc4be08"
   },
   "outputs": [],
   "source": [
    "# lemmatisation and PoS with the PROIEL model\n",
    "for sentence in doc.sentences:\n",
    "  for word in sentence.words:\n",
    "    print(word.text, \"lemma:\", word.lemma, \" PoS:\", word.pos)"
   ]
  },
  {
   "cell_type": "code",
   "execution_count": null,
   "metadata": {
    "colab": {
     "base_uri": "https://localhost:8080/"
    },
    "id": "5EnOrIAoPAhx",
    "outputId": "ccc15ce4-709e-4e16-b46b-bef458b0550d"
   },
   "outputs": [],
   "source": [
    "# morphological analysis with the PROIEL model\n",
    "for sentence in doc.sentences:\n",
    "  for word in sentence.words:\n",
    "    print(word.text, word.feats)"
   ]
  },
  {
   "cell_type": "code",
   "execution_count": null,
   "metadata": {
    "colab": {
     "base_uri": "https://localhost:8080/"
    },
    "id": "9eqeNbjkPYxi",
    "outputId": "e47691a3-d4dd-4e79-bbb2-c60f997d97e3"
   },
   "outputs": [],
   "source": [
    "# print (i.e. visualise) the dependencies with Stanza in JSON format\n",
    "for sentence in doc.sentences:\n",
    "  print(sentence.dependencies)"
   ]
  },
  {
   "cell_type": "code",
   "execution_count": null,
   "metadata": {
    "colab": {
     "base_uri": "https://localhost:8080/",
     "height": 1000
    },
    "id": "hGZIKtHNQEy2",
    "outputId": "9f523544-ef1b-4a08-c249-3c7955e8a527"
   },
   "outputs": [],
   "source": [
    "# Visualise the dependencies with SpaCy. \n",
    "#In this visualisation you won't see the root and the dependencies are shown horizontally. \n",
    "snlp = stanza.Pipeline(lang=\"grc\")\n",
    "nlp = StanzaLanguage(snlp)\n",
    "doc = nlp(text)\n",
    "displacy.render(doc, style=\"dep\", jupyter=True)"
   ]
  },
  {
   "cell_type": "markdown",
   "metadata": {
    "id": "7FHoA9LmSre_"
   },
   "source": [
    "## Automatic annotation with the Perseus model\n"
   ]
  },
  {
   "cell_type": "code",
   "execution_count": null,
   "metadata": {
    "colab": {
     "base_uri": "https://localhost:8080/"
    },
    "id": "FFopITCWSXhv",
    "outputId": "c2ba1807-dd1c-4093-f769-a11327c0c633"
   },
   "outputs": [],
   "source": [
    "stanza.download(lang='grc', package='perseus') # download the Perseus model "
   ]
  },
  {
   "cell_type": "code",
   "execution_count": null,
   "metadata": {
    "colab": {
     "base_uri": "https://localhost:8080/"
    },
    "id": "-zhVz9fLTAvQ",
    "outputId": "c14c7a11-10d8-4f9b-ed62-a4cfa955b944"
   },
   "outputs": [],
   "source": [
    "# Lemmatisation and PoS with the Perseus model\n",
    "nlp = stanza.Pipeline(lang='grc', package=\"perseus\")\n",
    "doc = nlp(text)\n",
    "for sentence in doc.sentences:\n",
    "  for word in sentence.words:\n",
    "    print(word.text, \"lemma:\", word.lemma, \" PoS:\", word.pos)"
   ]
  },
  {
   "cell_type": "code",
   "execution_count": null,
   "metadata": {
    "colab": {
     "base_uri": "https://localhost:8080/"
    },
    "id": "j4rCNsGaTWMN",
    "outputId": "334fc920-f7e6-4c1b-ed08-87c9b2093abe"
   },
   "outputs": [],
   "source": [
    "# Morphological analysis with the Perseus model  \n",
    "for sentence in doc.sentences:\n",
    "  for word in sentence.words:\n",
    "    print(word.text, word.feats)"
   ]
  },
  {
   "cell_type": "code",
   "execution_count": null,
   "metadata": {
    "colab": {
     "base_uri": "https://localhost:8080/"
    },
    "id": "9IbbN6P3UAWB",
    "outputId": "10fd6218-2ef8-4625-f34e-c0f830cb4b56"
   },
   "outputs": [],
   "source": [
    "# print the dependencies with Stanza in JSON format\n",
    "for sentence in doc.sentences:\n",
    "  print(sentence.dependencies)"
   ]
  },
  {
   "cell_type": "code",
   "execution_count": null,
   "metadata": {
    "colab": {
     "base_uri": "https://localhost:8080/",
     "height": 767
    },
    "id": "B24Ch1abTlA2",
    "outputId": "51aafd86-2519-4da8-f7ca-81966cf55a04"
   },
   "outputs": [],
   "source": [
    "# visualise the dependencies with the Perseus model. In this visualisation you won't see the root and the dependencies are shown horizontally. \n",
    "snlp = stanza.Pipeline(lang=\"grc\", package=\"perseus\")\n",
    "nlp = StanzaLanguage(snlp)\n",
    "doc = nlp(text)\n",
    "displacy.render(doc, style=\"dep\", jupyter=True)\n"
   ]
  }
 ],
 "metadata": {
  "colab": {
   "name": "AutomaticAnnotationLatinTEST2.ipynb",
   "provenance": []
  },
  "kernelspec": {
   "display_name": "Python 3",
   "language": "python",
   "name": "python3"
  },
  "language_info": {
   "codemirror_mode": {
    "name": "ipython",
    "version": 3
   },
   "file_extension": ".py",
   "mimetype": "text/x-python",
   "name": "python",
   "nbconvert_exporter": "python",
   "pygments_lexer": "ipython3",
   "version": "3.7.3"
  }
 },
 "nbformat": 4,
 "nbformat_minor": 1
}
